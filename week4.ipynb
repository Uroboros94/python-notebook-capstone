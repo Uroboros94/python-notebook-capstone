{
 "cells": [
  {
   "cell_type": "markdown",
   "id": "3894d362-6e49-4780-b0d7-550c97635c9d",
   "metadata": {},
   "source": [
    "# A central scientist event\n",
    "A group of scientist will come to Cali - Colombia, to a biologic workshop.\n",
    "They will arrive to Four Sheraton hotel, but they don't know where they can go to eat, and they would like go to see some theater or live music near.\n",
    "\n",
    "The hotel it's allocate in Street 18 North # 4N - 08 in Cali, and them free hours is between 17 and 23."
   ]
  },
  {
   "cell_type": "markdown",
   "id": "63de9c87-9250-4b33-9197-3426ac3bd587",
   "metadata": {},
   "source": [
    "# Data description\n",
    "Here we know that the scientist will arrive to a hotel in Cali, and we use this location to recommend near sites that they will like to come according to the description.\n",
    "\n",
    "All data will come from foursquare, and generate the recommendations for it.\n",
    "\n",
    "## Data Set\n",
    "*   id \n",
    "*   name \n",
    "*   categories \n",
    "*   referralId \n",
    "*   hasPerk \n",
    "*   location.address \n",
    "*   location.lat \n",
    "*   location.lng \n",
    "*   location.labeledLatLngs \n",
    "*   location.distance \n",
    "*   location.postalCode \n",
    "*   location.cc \n",
    "*   location.city \n",
    "*   location.state \n",
    "*   location.country \n",
    "*   location.formattedAddress"
   ]
  },
  {
   "cell_type": "code",
   "execution_count": null,
   "id": "cfc4824c-fcb6-4dfc-a1b0-bcff899f66c1",
   "metadata": {},
   "outputs": [],
   "source": []
  }
 ],
 "metadata": {
  "kernelspec": {
   "display_name": "Python",
   "language": "python",
   "name": "conda-env-python-py"
  },
  "language_info": {
   "codemirror_mode": {
    "name": "ipython",
    "version": 3
   },
   "file_extension": ".py",
   "mimetype": "text/x-python",
   "name": "python",
   "nbconvert_exporter": "python",
   "pygments_lexer": "ipython3",
   "version": "3.6.13"
  }
 },
 "nbformat": 4,
 "nbformat_minor": 5
}
